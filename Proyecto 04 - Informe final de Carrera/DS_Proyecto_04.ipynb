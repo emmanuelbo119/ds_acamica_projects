{
 "cells": [
  {
   "cell_type": "markdown",
   "id": "0afeecc1",
   "metadata": {},
   "source": [
    "## Proyecto Final de carrera "
   ]
  },
  {
   "cell_type": "markdown",
   "id": "927e04f3",
   "metadata": {},
   "source": [
    "### Consigna del Trabajo\n"
   ]
  },
  {
   "cell_type": "markdown",
   "id": "2b806ff4",
   "metadata": {},
   "source": [
    "#### Elige tu punto de partida entre dos opciones: \n",
    "\n",
    "Formula una nueva pregunta, problema o desafío para explorar. Aquí hay una lista no exhaustiva de opciones que puedes elegir:\n",
    "\n",
    "* **Prueba un modelo de Machine Learning nuevo que no hayas visto en la carrera**. En ese caso, debes explicar su funcionamiento y por qué consideras apropiado aplicarlo. La ganancia no necesariamente tiene que ser en desempeño, también puede ser en interpretabilidad o aplicabilidad.\n",
    "* **Agrega al proyecto información de otra fuente. ¡Es sumamente válido!** En ese caso, debe estar claramente explicado cómo conseguiste esos datos y qué usos esperas darles. Los datos deben ser accesibles por tu evaluador/a (por ejemplo, puedes subirlos al repositorio). Presta atención a la sensibilidad y privacidad de los datos antes de compartirlos.\n",
    "* **Continúa el Análisis Exploratorio de Datos**. Recuerda que es tan importante como entrenar un modelo de Machine Learning.\n",
    "* **Sigue las sugerencias que te propusimos** en los notebooks para continuar el Proyecto 03."
   ]
  },
  {
   "cell_type": "markdown",
   "id": "59585afc",
   "metadata": {},
   "source": [
    "## Checklist de evaluación\n",
    "\n",
    "* Se evaluará la claridad con la que está expuesto el objetivo a alcanzar y su relevancia.\n",
    "* Los pasos deben estar correctamente justificados. No deben haber grandes grupos de celdas de código sin explicar su función. Lo mismo aplica para los gráficos. Recuerda que el notebook es un informe.\n",
    "* Las preguntas que se respondan deben estar correctamente explicitadas.\n",
    "* Imagina que este proyecto lo usarías para presentar en una entrevista de trabajo, o que lo debes presentar en tu trabajo. * Presta mucha atención a la redacción, presentación de gráficos, etc.\n",
    "* Debes entregar el proyecto anterior correspondiente (Proyecto 2 si eliges continuar con el dataset de Properati, Proyecto 3 si eliges continuar con alguna aplicación), el cual debe estar subido al repositorio.\n",
    "* Incorpora las correcciones y/o sugerencias que tu evaluador/a te haya dado en la devolución del proyecto correspondiente anterior.\n",
    "* Antes de subir tu proyecto a la plataforma Acámica para que sea evaluado, verifica que el Notebook se ejecute sin errores."
   ]
  },
  {
   "cell_type": "markdown",
   "id": "b4764c85",
   "metadata": {},
   "source": [
    "## Desarrollo \n",
    "\n",
    "Para el desarrollo del informe final de carrera, opte por tomar como punto de partida el Protecto número 3 - Series Temporales,  en donde se desarrolló un modelo de machine learning para predecir el flujo vehícular en la ciudad de buenos aires para el primer trimestre del año 2021. Considero que es posible la mejora del modelo desarrollado intentando responder dos preguntas claves: \n",
    "1. La incorporación de un nuevo data set externo al utilizado mejoraría la acertividad del modelo ? Esto surge de la idea de que al vincular información correspondiente a la venta de vehículos vamos a tener una mayor acertividad ya la hipótesis a verificar es que ambas series temporales estan correlacionadas  (Ventas de automóviles vs Flujo Vehicular).\n",
    "2. Mejorar la predicción mediante el uso de redes neuronales, ya que es un campo de interés personal y abordaría el punto \"Probar un modelo de machine learning no visto en la carrera\" "
   ]
  },
  {
   "cell_type": "markdown",
   "id": "18159346",
   "metadata": {},
   "source": [
    "### Recopilaciòn y EDA"
   ]
  }
 ],
 "metadata": {
  "kernelspec": {
   "display_name": "Python 3",
   "language": "python",
   "name": "python3"
  },
  "language_info": {
   "codemirror_mode": {
    "name": "ipython",
    "version": 3
   },
   "file_extension": ".py",
   "mimetype": "text/x-python",
   "name": "python",
   "nbconvert_exporter": "python",
   "pygments_lexer": "ipython3",
   "version": "3.8.8"
  }
 },
 "nbformat": 4,
 "nbformat_minor": 5
}
